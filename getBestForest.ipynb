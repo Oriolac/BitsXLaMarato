{
 "cells": [
  {
   "cell_type": "code",
   "execution_count": 8,
   "metadata": {},
   "outputs": [
    {
     "data": {
      "text/html": [
       "<div>\n",
       "<style scoped>\n",
       "    .dataframe tbody tr th:only-of-type {\n",
       "        vertical-align: middle;\n",
       "    }\n",
       "\n",
       "    .dataframe tbody tr th {\n",
       "        vertical-align: top;\n",
       "    }\n",
       "\n",
       "    .dataframe thead th {\n",
       "        text-align: right;\n",
       "    }\n",
       "</style>\n",
       "<table border=\"1\" class=\"dataframe\">\n",
       "  <thead>\n",
       "    <tr style=\"text-align: right;\">\n",
       "      <th></th>\n",
       "      <th>num</th>\n",
       "      <th>columnes</th>\n",
       "      <th>score</th>\n",
       "    </tr>\n",
       "  </thead>\n",
       "  <tbody>\n",
       "    <tr>\n",
       "      <th>0</th>\n",
       "      <td>3</td>\n",
       "      <td>headache sex neuro final_diagnosis_code</td>\n",
       "      <td>0.697329</td>\n",
       "    </tr>\n",
       "    <tr>\n",
       "      <th>1</th>\n",
       "      <td>3</td>\n",
       "      <td>hepato fever artritis final_diagnosis_code</td>\n",
       "      <td>0.749331</td>\n",
       "    </tr>\n",
       "    <tr>\n",
       "      <th>2</th>\n",
       "      <td>3</td>\n",
       "      <td>inflam_periferic shock_first home_confirmed fi...</td>\n",
       "      <td>0.540497</td>\n",
       "    </tr>\n",
       "    <tr>\n",
       "      <th>3</th>\n",
       "      <td>3</td>\n",
       "      <td>sex nasal_congestion dysphonia final_diagnosis...</td>\n",
       "      <td>0.738186</td>\n",
       "    </tr>\n",
       "    <tr>\n",
       "      <th>4</th>\n",
       "      <td>3</td>\n",
       "      <td>disfonia_first nasal_first dolor_toracic final...</td>\n",
       "      <td>0.730795</td>\n",
       "    </tr>\n",
       "    <tr>\n",
       "      <th>...</th>\n",
       "      <td>...</td>\n",
       "      <td>...</td>\n",
       "      <td>...</td>\n",
       "    </tr>\n",
       "    <tr>\n",
       "      <th>306</th>\n",
       "      <td>18</td>\n",
       "      <td>resp tachypnea nasal_congestion inflam_perifer...</td>\n",
       "      <td>0.626717</td>\n",
       "    </tr>\n",
       "    <tr>\n",
       "      <th>307</th>\n",
       "      <td>18</td>\n",
       "      <td>lymph_first irritability ausc_resp disfonia_fi...</td>\n",
       "      <td>0.616058</td>\n",
       "    </tr>\n",
       "    <tr>\n",
       "      <th>308</th>\n",
       "      <td>18</td>\n",
       "      <td>conjuntivitis inflam_periferic irritability to...</td>\n",
       "      <td>0.691907</td>\n",
       "    </tr>\n",
       "    <tr>\n",
       "      <th>309</th>\n",
       "      <td>18</td>\n",
       "      <td>sympt_epi symptoms_binary odynophagia irritabi...</td>\n",
       "      <td>0.665146</td>\n",
       "    </tr>\n",
       "    <tr>\n",
       "      <th>310</th>\n",
       "      <td>18</td>\n",
       "      <td>ausc_resp ct2 ocular_pain fever home_confirmed...</td>\n",
       "      <td>NaN</td>\n",
       "    </tr>\n",
       "  </tbody>\n",
       "</table>\n",
       "<p>311 rows × 3 columns</p>\n",
       "</div>"
      ],
      "text/plain": [
       "     num                                           columnes     score\n",
       "0      3            headache sex neuro final_diagnosis_code  0.697329\n",
       "1      3         hepato fever artritis final_diagnosis_code  0.749331\n",
       "2      3  inflam_periferic shock_first home_confirmed fi...  0.540497\n",
       "3      3  sex nasal_congestion dysphonia final_diagnosis...  0.738186\n",
       "4      3  disfonia_first nasal_first dolor_toracic final...  0.730795\n",
       "..   ...                                                ...       ...\n",
       "306   18  resp tachypnea nasal_congestion inflam_perifer...  0.626717\n",
       "307   18  lymph_first irritability ausc_resp disfonia_fi...  0.616058\n",
       "308   18  conjuntivitis inflam_periferic irritability to...  0.691907\n",
       "309   18  sympt_epi symptoms_binary odynophagia irritabi...  0.665146\n",
       "310   18  ausc_resp ct2 ocular_pain fever home_confirmed...       NaN\n",
       "\n",
       "[311 rows x 3 columns]"
      ]
     },
     "execution_count": 8,
     "metadata": {},
     "output_type": "execute_result"
    }
   ],
   "source": [
    "import pandas as pd\n",
    "df = pd.read_csv('forest.csv',)\n",
    "df"
   ]
  },
  {
   "cell_type": "code",
   "execution_count": 9,
   "metadata": {},
   "outputs": [
    {
     "data": {
      "text/html": [
       "<div>\n",
       "<style scoped>\n",
       "    .dataframe tbody tr th:only-of-type {\n",
       "        vertical-align: middle;\n",
       "    }\n",
       "\n",
       "    .dataframe tbody tr th {\n",
       "        vertical-align: top;\n",
       "    }\n",
       "\n",
       "    .dataframe thead th {\n",
       "        text-align: right;\n",
       "    }\n",
       "</style>\n",
       "<table border=\"1\" class=\"dataframe\">\n",
       "  <thead>\n",
       "    <tr style=\"text-align: right;\">\n",
       "      <th></th>\n",
       "      <th>num</th>\n",
       "      <th>columnes</th>\n",
       "      <th>score</th>\n",
       "    </tr>\n",
       "  </thead>\n",
       "  <tbody>\n",
       "    <tr>\n",
       "      <th>230</th>\n",
       "      <td>14</td>\n",
       "      <td>hemorr_first spleno_first wheezing symptoms_bi...</td>\n",
       "      <td>0.900234</td>\n",
       "    </tr>\n",
       "  </tbody>\n",
       "</table>\n",
       "</div>"
      ],
      "text/plain": [
       "     num                                           columnes     score\n",
       "230   14  hemorr_first spleno_first wheezing symptoms_bi...  0.900234"
      ]
     },
     "execution_count": 9,
     "metadata": {},
     "output_type": "execute_result"
    }
   ],
   "source": [
    "row = df[df.score == df.max()['score']]\n",
    "row"
   ]
  },
  {
   "cell_type": "code",
   "execution_count": 14,
   "metadata": {},
   "outputs": [
    {
     "data": {
      "text/plain": [
       "'hemorr_first spleno_first wheezing symptoms_binary disfonia_first nuchal_stiffness flu_binary hepato artritis shock dysphonia conjuntivitis taste_first sex final_diagnosis_code'"
      ]
     },
     "execution_count": 14,
     "metadata": {},
     "output_type": "execute_result"
    }
   ],
   "source": [
    "row.columnes.values[0]"
   ]
  },
  {
   "cell_type": "code",
   "execution_count": 20,
   "metadata": {},
   "outputs": [
    {
     "data": {
      "text/html": [
       "<div>\n",
       "<style scoped>\n",
       "    .dataframe tbody tr th:only-of-type {\n",
       "        vertical-align: middle;\n",
       "    }\n",
       "\n",
       "    .dataframe tbody tr th {\n",
       "        vertical-align: top;\n",
       "    }\n",
       "\n",
       "    .dataframe thead th {\n",
       "        text-align: right;\n",
       "    }\n",
       "</style>\n",
       "<table border=\"1\" class=\"dataframe\">\n",
       "  <thead>\n",
       "    <tr style=\"text-align: right;\">\n",
       "      <th></th>\n",
       "      <th>num</th>\n",
       "      <th>columnes</th>\n",
       "      <th>scores</th>\n",
       "    </tr>\n",
       "  </thead>\n",
       "  <tbody>\n",
       "    <tr>\n",
       "      <th>0</th>\n",
       "      <td>3</td>\n",
       "      <td>gi_first inflam_periferic dyarrea final_diagno...</td>\n",
       "      <td>0.751234</td>\n",
       "    </tr>\n",
       "    <tr>\n",
       "      <th>1</th>\n",
       "      <td>3</td>\n",
       "      <td>irritability neuro hepato final_diagnosis_code</td>\n",
       "      <td>0.674639</td>\n",
       "    </tr>\n",
       "    <tr>\n",
       "      <th>2</th>\n",
       "      <td>3</td>\n",
       "      <td>lymph_first inflam_periferic ct2 final_diagnos...</td>\n",
       "      <td>0.749736</td>\n",
       "    </tr>\n",
       "    <tr>\n",
       "      <th>3</th>\n",
       "      <td>3</td>\n",
       "      <td>nasal_congestion hepato lymph_first final_diag...</td>\n",
       "      <td>0.707737</td>\n",
       "    </tr>\n",
       "    <tr>\n",
       "      <th>4</th>\n",
       "      <td>3</td>\n",
       "      <td>crackles headache_first home_confirmed final_d...</td>\n",
       "      <td>0.793922</td>\n",
       "    </tr>\n",
       "    <tr>\n",
       "      <th>...</th>\n",
       "      <td>...</td>\n",
       "      <td>...</td>\n",
       "      <td>...</td>\n",
       "    </tr>\n",
       "    <tr>\n",
       "      <th>988</th>\n",
       "      <td>19</td>\n",
       "      <td>symptoms_binary fever ct2 gi_first smokers_hom...</td>\n",
       "      <td>0.607108</td>\n",
       "    </tr>\n",
       "    <tr>\n",
       "      <th>989</th>\n",
       "      <td>19</td>\n",
       "      <td>dermatologic resp neuro disfonia_first nasal_c...</td>\n",
       "      <td>0.707910</td>\n",
       "    </tr>\n",
       "    <tr>\n",
       "      <th>990</th>\n",
       "      <td>19</td>\n",
       "      <td>highest_fever nasal_first abdominal_pain home_...</td>\n",
       "      <td>0.655362</td>\n",
       "    </tr>\n",
       "    <tr>\n",
       "      <th>991</th>\n",
       "      <td>19</td>\n",
       "      <td>nuchal_stiffness flu_binary dolor_toracic tos ...</td>\n",
       "      <td>0.660541</td>\n",
       "    </tr>\n",
       "    <tr>\n",
       "      <th>992</th>\n",
       "      <td>19</td>\n",
       "      <td>home_confirmed headache_first conjuntivitis to...</td>\n",
       "      <td>NaN</td>\n",
       "    </tr>\n",
       "  </tbody>\n",
       "</table>\n",
       "<p>993 rows × 3 columns</p>\n",
       "</div>"
      ],
      "text/plain": [
       "     num                                           columnes    scores\n",
       "0      3  gi_first inflam_periferic dyarrea final_diagno...  0.751234\n",
       "1      3     irritability neuro hepato final_diagnosis_code  0.674639\n",
       "2      3  lymph_first inflam_periferic ct2 final_diagnos...  0.749736\n",
       "3      3  nasal_congestion hepato lymph_first final_diag...  0.707737\n",
       "4      3  crackles headache_first home_confirmed final_d...  0.793922\n",
       "..   ...                                                ...       ...\n",
       "988   19  symptoms_binary fever ct2 gi_first smokers_hom...  0.607108\n",
       "989   19  dermatologic resp neuro disfonia_first nasal_c...  0.707910\n",
       "990   19  highest_fever nasal_first abdominal_pain home_...  0.655362\n",
       "991   19  nuchal_stiffness flu_binary dolor_toracic tos ...  0.660541\n",
       "992   19  home_confirmed headache_first conjuntivitis to...       NaN\n",
       "\n",
       "[993 rows x 3 columns]"
      ]
     },
     "execution_count": 20,
     "metadata": {},
     "output_type": "execute_result"
    }
   ],
   "source": [
    "df3 = pd.read_csv('forest3.csv')\n",
    "df3"
   ]
  },
  {
   "cell_type": "code",
   "execution_count": 32,
   "metadata": {},
   "outputs": [
    {
     "data": {
      "text/plain": [
       "'crackles flu_binary crup sympt_epi hepato_first wheezing symptoms_binary disfonia_first fever final_diagnosis_code'"
      ]
     },
     "execution_count": 32,
     "metadata": {},
     "output_type": "execute_result"
    }
   ],
   "source": [
    "df3[df3.scores >= 0.9]['columnes'].values[0]"
   ]
  }
 ],
 "metadata": {
  "kernelspec": {
   "display_name": "Python 3",
   "language": "python",
   "name": "python3"
  },
  "language_info": {
   "codemirror_mode": {
    "name": "ipython",
    "version": 3
   },
   "file_extension": ".py",
   "mimetype": "text/x-python",
   "name": "python",
   "nbconvert_exporter": "python",
   "pygments_lexer": "ipython3",
   "version": "3.8.6"
  }
 },
 "nbformat": 4,
 "nbformat_minor": 4
}
